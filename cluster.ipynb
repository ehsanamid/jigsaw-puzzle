{
 "cells": [
  {
   "cell_type": "code",
   "execution_count": 1,
   "metadata": {},
   "outputs": [],
   "source": [
    "import cv2\n",
    "from os.path import join\n",
    "import numpy as np\n",
    "import pandas as pd\n",
    "import math\n",
    "\n",
    "\n"
   ]
  },
  {
   "cell_type": "code",
   "execution_count": null,
   "metadata": {},
   "outputs": [],
   "source": [
    "img = cv2.imread(join(\"pieces_threshold\", 'Page_0001_1_1.jpg'))"
   ]
  },
  {
   "cell_type": "code",
   "execution_count": null,
   "metadata": {},
   "outputs": [],
   "source": [
    "gray = cv2.cvtColor(img, cv2.COLOR_BGR2GRAY)\n"
   ]
  },
  {
   "cell_type": "code",
   "execution_count": null,
   "metadata": {},
   "outputs": [],
   "source": [
    "# edges = cv2.Canny(gray, 50, 150, apertureSize=3)\n",
    "\n",
    "edges = cv2.Canny(gray, 100, 200)\n"
   ]
  },
  {
   "cell_type": "code",
   "execution_count": null,
   "metadata": {},
   "outputs": [],
   "source": [
    "contours, hierarchy = cv2.findContours(edges, cv2.RETR_LIST, cv2.CHAIN_APPROX_SIMPLE)\n"
   ]
  },
  {
   "cell_type": "code",
   "execution_count": null,
   "metadata": {},
   "outputs": [],
   "source": [
    "for contour in contours:\n",
    "    perimeter = cv2.arcLength(contour, True)\n",
    "    approx = cv2.approxPolyDP(contour, 0.03 * perimeter, True)\n",
    "    newimage =img.copy()\n",
    "    # if len(approx) == 4:\n",
    "    #     cv2.drawContours(img, [approx], 0, (0, 255, 0), 2)\n",
    "    cv2.drawContours(newimage, [approx], 0, (0, 255, 0), 2)\n",
    "    \n",
    "    cv2.imshow('Image', newimage)\n",
    "    cv2.waitKey(0)\n",
    "    cv2.destroyAllWindows()\n"
   ]
  },
  {
   "cell_type": "code",
   "execution_count": null,
   "metadata": {},
   "outputs": [],
   "source": [
    "cv2.imshow('Image', img)\n",
    "cv2.waitKey(0)\n",
    "cv2.destroyAllWindows()"
   ]
  },
  {
   "cell_type": "code",
   "execution_count": 6,
   "metadata": {},
   "outputs": [],
   "source": [
    "def find_corner(piece_name: str,piece_folder: str):\n",
    "    img = cv2.imread(join(piece_folder, piece_name+\".jpg\"))\n",
    "\n",
    "    # xy = (100,200)\n",
    "    # color2 = (0,0,255)\n",
    "    # cv2.circle(img,xy,2,color=color2,thickness=3)\n",
    "    # cv2.imshow(\"piece_name\",img)\n",
    "    # full_key = cv2.waitKeyEx(0)\n",
    "    gray = cv2.cvtColor(img, cv2.COLOR_BGR2GRAY)\n",
    "    ''' gray = np.float32(gray)\n",
    "    harris_corners = cv2.cornerHarris(gray, 9, 9, 0.06)\n",
    "    kernel = np.ones((7, 7), np.uint8)\n",
    "    harris_corners = cv2.dilate(harris_corners, kernel, iterations=2)\n",
    "    thr[harris_corners > 0.01 * harris_corners.max()] = [255, 127, 127]'''\n",
    "\n",
    "    corners = cv2.goodFeaturesToTrack(gray, 100, 0.2, 10)\n",
    "    x = 0\n",
    "    y = 0\n",
    "    df = pd.DataFrame()\n",
    "    if corners is not None:\n",
    "        for corner in corners:\n",
    "            x1, y1 = corner[0]\n",
    "            x += int(x1)\n",
    "            y += int(y1)\n",
    "        x = x/len(corners)\n",
    "        y = y/len(corners)\n",
    "        for i, corner in enumerate(corners):\n",
    "            m = (corner[0][1] - y)/(corner[0][0] - x)\n",
    "            m = math.atan(m)\n",
    "            m = math.degrees(m)\n",
    "            m = abs(abs(m) - 45) \n",
    "            x1 = int(corner[0][0])\n",
    "            y1 = int(corner[0][1])\n",
    "            new_row = pd.DataFrame({'Index': i,'X':x1,'Y':y1,'angle':m },index=[0])\n",
    "            df = df.append(new_row)\n",
    "    \n",
    "        df.sort_values(by='angle', inplace=True)\n",
    "        print(df)\n",
    "        ########\n",
    "        l = len(corners)\n",
    "        output_list = []\n",
    "        count = 0\n",
    "        for index, row in df.iterrows():\n",
    "            x = int(row['X'])\n",
    "            y = int(row['Y'])\n",
    "            xy = (x,y)\n",
    "            \n",
    "            color2 = (0,0,255)\n",
    "            cv2.circle(img,xy,2,color=color2,thickness=1)\n",
    "            cv2.imshow(piece_name,img)\n",
    "            full_key = cv2.waitKeyEx(0)\n",
    "            if full_key == 110:\n",
    "                continue\n",
    "            if full_key == 120:\n",
    "                break\n",
    "            count += 1\n",
    "            output_list.append(xy)\n",
    "            if(count == 4):\n",
    "                break\n",
    "            \n",
    "            \n",
    "        cv2.destroyWindow(piece_name)\n",
    "        ###############\n",
    "        \n",
    "        # print(df)\n",
    "    return output_list\n"
   ]
  },
  {
   "cell_type": "code",
   "execution_count": 7,
   "metadata": {},
   "outputs": [
    {
     "name": "stderr",
     "output_type": "stream",
     "text": [
      "C:\\Users\\Administrator\\AppData\\Local\\Temp\\1\\ipykernel_3936\\2558328061.py:35: FutureWarning: The frame.append method is deprecated and will be removed from pandas in a future version. Use pandas.concat instead.\n",
      "  df = df.append(new_row)\n",
      "C:\\Users\\Administrator\\AppData\\Local\\Temp\\1\\ipykernel_3936\\2558328061.py:35: FutureWarning: The frame.append method is deprecated and will be removed from pandas in a future version. Use pandas.concat instead.\n",
      "  df = df.append(new_row)\n",
      "C:\\Users\\Administrator\\AppData\\Local\\Temp\\1\\ipykernel_3936\\2558328061.py:35: FutureWarning: The frame.append method is deprecated and will be removed from pandas in a future version. Use pandas.concat instead.\n",
      "  df = df.append(new_row)\n",
      "C:\\Users\\Administrator\\AppData\\Local\\Temp\\1\\ipykernel_3936\\2558328061.py:35: FutureWarning: The frame.append method is deprecated and will be removed from pandas in a future version. Use pandas.concat instead.\n",
      "  df = df.append(new_row)\n",
      "C:\\Users\\Administrator\\AppData\\Local\\Temp\\1\\ipykernel_3936\\2558328061.py:35: FutureWarning: The frame.append method is deprecated and will be removed from pandas in a future version. Use pandas.concat instead.\n",
      "  df = df.append(new_row)\n",
      "C:\\Users\\Administrator\\AppData\\Local\\Temp\\1\\ipykernel_3936\\2558328061.py:35: FutureWarning: The frame.append method is deprecated and will be removed from pandas in a future version. Use pandas.concat instead.\n",
      "  df = df.append(new_row)\n",
      "C:\\Users\\Administrator\\AppData\\Local\\Temp\\1\\ipykernel_3936\\2558328061.py:35: FutureWarning: The frame.append method is deprecated and will be removed from pandas in a future version. Use pandas.concat instead.\n",
      "  df = df.append(new_row)\n",
      "C:\\Users\\Administrator\\AppData\\Local\\Temp\\1\\ipykernel_3936\\2558328061.py:35: FutureWarning: The frame.append method is deprecated and will be removed from pandas in a future version. Use pandas.concat instead.\n",
      "  df = df.append(new_row)\n",
      "C:\\Users\\Administrator\\AppData\\Local\\Temp\\1\\ipykernel_3936\\2558328061.py:35: FutureWarning: The frame.append method is deprecated and will be removed from pandas in a future version. Use pandas.concat instead.\n",
      "  df = df.append(new_row)\n"
     ]
    },
    {
     "name": "stdout",
     "output_type": "stream",
     "text": [
      "   Index    X    Y      angle\n",
      "0      2  456  391   2.556371\n",
      "0      3  195  169   6.931357\n",
      "0      0  471  174  12.581406\n",
      "0      1  155  365  15.009567\n",
      "0      7  359  182  21.916907\n",
      "0      8  204  310  25.664350\n",
      "0      5  159  292  36.820726\n",
      "0      6  427  261  40.879878\n",
      "0      4  473  273  43.312836\n"
     ]
    },
    {
     "data": {
      "text/plain": [
       "[(456, 391), (195, 169), (471, 174), (155, 365)]"
      ]
     },
     "execution_count": 7,
     "metadata": {},
     "output_type": "execute_result"
    }
   ],
   "source": [
    "find_corner('Page_0001_1_1',\"pieces_threshold\")"
   ]
  }
 ],
 "metadata": {
  "kernelspec": {
   "display_name": "Python 3",
   "language": "python",
   "name": "python3"
  },
  "language_info": {
   "codemirror_mode": {
    "name": "ipython",
    "version": 3
   },
   "file_extension": ".py",
   "mimetype": "text/x-python",
   "name": "python",
   "nbconvert_exporter": "python",
   "pygments_lexer": "ipython3",
   "version": "3.10.4"
  },
  "orig_nbformat": 4
 },
 "nbformat": 4,
 "nbformat_minor": 2
}
